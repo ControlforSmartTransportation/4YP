{
 "cells": [
  {
   "cell_type": "code",
   "execution_count": 1,
   "metadata": {},
   "outputs": [],
   "source": [
    "#file to import results, process them, and get some outputs from which I can analyse.\n",
    "\n",
    "#hodge podge of imports, defo wont need them all but will need some\n",
    "import os\n",
    "import xlrd\n",
    "import numpy as np\n",
    "import pandas as pd\n",
    "import statistics as st\n",
    "import matplotlib.pyplot as plt\n",
    "import matplotlib.cm as cm\n",
    "import seaborn as sns\n",
    "from scipy.optimize import curve_fit\n",
    "from matplotlib.ticker import MaxNLocator"
   ]
  },
  {
   "cell_type": "code",
   "execution_count": 11,
   "metadata": {},
   "outputs": [],
   "source": [
    "df = pd.read_csv(\"C:\\\\Users\\\\Michael\\\\OneDrive - Nexus365\\\\4th year\\\\4yp\\\\Results\\\\stopstart1822.csv\",)\n",
    "df.drop(df.index[0:58],inplace=True) #should be same for every dataset I save \n",
    "df.drop(\"run\",axis=1,inplace=True)\n",
    "df.drop(\"type\",axis=1,inplace=True)\n",
    "df.drop(\"attrname\",axis=1,inplace=True)\n",
    "df.drop(\"attrvalue\",axis=1,inplace=True)\n",
    "df.drop(\"value\",axis=1,inplace=True)\n",
    "df = df.assign(module = lambda x: x['module'].str.extract('(\\d+)')) #extracts number from string\n",
    "df[\"classification\"] = \"\"\n",
    "df[\"module\"] = df['module'].astype(str).astype(int)\n",
    "df = df.rename(columns={'vectime': 'time', 'vecvalue': 'value'})\n",
    "#df.to_csv('stopstart1822e.csv', index=False)\n",
    "\n"
   ]
  },
  {
   "cell_type": "code",
   "execution_count": null,
   "metadata": {},
   "outputs": [],
   "source": []
  },
  {
   "cell_type": "code",
   "execution_count": null,
   "metadata": {},
   "outputs": [],
   "source": []
  },
  {
   "cell_type": "code",
   "execution_count": null,
   "metadata": {},
   "outputs": [],
   "source": []
  },
  {
   "cell_type": "code",
   "execution_count": null,
   "metadata": {},
   "outputs": [],
   "source": []
  },
  {
   "cell_type": "code",
   "execution_count": null,
   "metadata": {},
   "outputs": [],
   "source": []
  },
  {
   "cell_type": "code",
   "execution_count": null,
   "metadata": {},
   "outputs": [],
   "source": []
  },
  {
   "cell_type": "code",
   "execution_count": null,
   "metadata": {},
   "outputs": [],
   "source": []
  },
  {
   "cell_type": "code",
   "execution_count": 32,
   "metadata": {},
   "outputs": [],
   "source": [
    "df = pd.read_csv(\"C:\\\\Users\\\\Michael\\\\OneDrive - Nexus365\\\\4th year\\\\4yp\\\\Results\\\\auto100.csv\",)\n",
    "df.drop(df.index[0:58],inplace=True) #should be same for every dataset I save \n",
    "df.drop(\"run\",axis=1,inplace=True)\n",
    "df.drop(\"type\",axis=1,inplace=True)\n",
    "df.drop(\"attrname\",axis=1,inplace=True)\n",
    "df.drop(\"attrvalue\",axis=1,inplace=True)\n",
    "df.drop(\"value\",axis=1,inplace=True)\n",
    "df = df.assign(module = lambda x: x['module'].str.extract('(\\d+)')) #extracts number from string\n",
    "df[\"classification\"] = \"\"\n",
    "df[\"module\"] = df['module'].astype(str).astype(int)\n",
    "df = df.rename(columns={'vectime': 'time', 'vecvalue': 'value'})\n",
    "#df.to_csv('stopstart1822e.csv', index=False)\n",
    "\n",
    "\n",
    "#df = pd.read_csv(\"C:\\\\Users\\\\Michael\\\\OneDrive - Nexus365\\\\4th year\\\\4yp\\\\Results\\\\slowdown10_edited.csv\",)\n",
    "#df = pd.read_csv(\"C:\\\\Users\\\\Michael\\\\OneDrive - Nexus365\\\\4th year\\\\4yp\\\\Results\\\\stopstart2218e.csv\",)\n",
    "df = df.rename(columns={'module': 'car','name':'param'})\n",
    "df = df.replace(' ',',', regex=True)\n",
    "df[\"class\"] = \"\"\n",
    "\n",
    "for i in range(len(df)):\n",
    "    a = eval(df.iloc[i]['value'])\n",
    "    b = df.iloc[i]['car']\n",
    "    if df.iloc[i]['param'] == \"posx\" and a[0] < 100:\n",
    "        df.at[df[\"car\"] == b,'class'] = \"left\"\n",
    "\n",
    "    if df.iloc[i]['param'] == \"posy\" and a[0] > 400:\n",
    "        df.at[df[\"car\"] == b,'class'] = \"bottom\"\n",
    "df.drop(df.index[df[\"param\"] != \"speed\"],inplace=True) #should be same for every dataset I save \n",
    "\n",
    "\n",
    "df_left = df[df[\"class\"] == \"left\"]\n",
    "df_bottom = df[df[\"class\"] == \"bottom\"]"
   ]
  },
  {
   "cell_type": "code",
   "execution_count": 38,
   "metadata": {
    "scrolled": true
   },
   "outputs": [
    {
     "name": "stdout",
     "output_type": "stream",
     "text": [
      "Overall simulation statistics\n",
      " simulation time is 145 \n",
      " Mean time is 42.30 \n",
      " Median time is 41.0 \n",
      " Max time is 59 \n",
      " Mean stop time is 9.975 \n",
      " Max stop time is 27 \n",
      " Mean speed is 9.34\n"
     ]
    },
    {
     "data": {
      "text/plain": [
       "Text(0.5, 1.0, 'Time taken for vehicles to move through simulation')"
      ]
     },
     "execution_count": 38,
     "metadata": {},
     "output_type": "execute_result"
    },
    {
     "data": {
      "image/png": "[encoded data removed]",
      "text/plain": [
       "<Figure size 432x288 with 1 Axes>"
      ]
     },
     "metadata": {},
     "output_type": "display_data"
    }
   ],
   "source": [
    "listt = []\n",
    "lists = []\n",
    "veh_t = []\n",
    "stop = []\n",
    "avg_speed = []\n",
    "for i in range(len(df)):\n",
    "    time_list_elements = list(eval(df.iloc[i]['time']))#time stamps for each vehicle \n",
    "    speed_list_elements = list(eval(df.iloc[i]['value']))#speed stamps for each vehicle\n",
    "    listt.append(time_list_elements)#lol time\n",
    "    lists.append(speed_list_elements)#lol speed\n",
    "    stop_element = sum(i < 5 for i in speed_list_elements)\n",
    "    stop.append(stop_element)\n",
    "    avg_speed.append(st.mean(speed_list_elements))\n",
    "    veh_t.append( time_list_elements[-1] - time_list_elements[0])\n",
    "\n",
    "\n",
    "time_max = max([listelement[-1] for listelement in listt])\n",
    "time_min = min([listelement[0] for listelement in listt])\n",
    "sim_time = time_max - time_min\n",
    "mean_veh_time = st.mean(veh_t)\n",
    "mean_stop_time = st.mean(stop)\n",
    "max_stop_time = max(stop)\n",
    "max_veh_time = max(veh_t)\n",
    "min_veh_time = min(veh_t)\n",
    "median_veh_time = st.median(veh_t)\n",
    "mean_veh_speed = st.mean(avg_speed)\n",
    "print(\"Overall simulation statistics\")\n",
    "print(\" simulation time is\",sim_time,\"\\n\",\n",
    "    \"Mean time is\",\"%.2f\" %mean_veh_time,\"\\n\",\n",
    "    \"Median time is\",median_veh_time, \"\\n\",\n",
    " #   \"Min time is\",min_veh_time, \"\\n\",\n",
    "    \"Max time is\",max_veh_time,\"\\n\",\n",
    "    \"Mean stop time is\",mean_stop_time,\"\\n\",\n",
    "    \"Max stop time is\",max_stop_time,\"\\n\",\n",
    "    \"Mean speed is \"\"%.2f\" % mean_veh_speed)\n",
    "\n",
    "#try and get histogram working if possible\n",
    "\n",
    "plt.style.use('fivethirtyeight')\n",
    "plt.hist(veh_t, bins=10, edgecolor='black')\n",
    "plt.xlabel('Time (s)')\n",
    "plt.ylabel('Number of Vehicles')\n",
    "plt.title(\"Time taken for vehicles to move through simulation\")"
   ]
  },
  {
   "cell_type": "code",
   "execution_count": 34,
   "metadata": {},
   "outputs": [
    {
     "name": "stdout",
     "output_type": "stream",
     "text": [
      "\n",
      "Statistics for vehicles initialising on the left road\n",
      "Mean time is 44.00 \n",
      " Max time is 59 \n",
      " Mean stop time is 13.1 \n",
      " Max stop time is 27 \n",
      " Mean speed is 8.87 \n",
      " \n",
      "\n",
      "Statistics for vehicles initialising on the bottom road\n",
      "Mean time is 40.60 \n",
      " Max time is 59 \n",
      " Mean stop time is 6.85 \n",
      " Max stop time is 19 \n",
      " Mean speed is 9.81 \n",
      " \n",
      "\n"
     ]
    },
    {
     "data": {
      "text/plain": [
       "Text(0.5, 1.0, 'Time taken for vehicles to move through simulation')"
      ]
     },
     "execution_count": 34,
     "metadata": {},
     "output_type": "execute_result"
    },
    {
     "data": {
      "image/png": "[encoded data removed]",
      "text/plain": [
       "<Figure size 432x288 with 1 Axes>"
      ]
     },
     "metadata": {},
     "output_type": "display_data"
    }
   ],
   "source": [
    "listt = []\n",
    "lists = []\n",
    "veh_t = []\n",
    "stop = []\n",
    "avg_speed = []\n",
    "for i in range(len(df_left)):\n",
    "    time_list_elements = list(eval(df_left.iloc[i]['time']))#time stamps for each vehicle \n",
    "    speed_list_elements = list(eval(df_left.iloc[i]['value']))#speed stamps for each vehicle\n",
    "    listt.append(time_list_elements)#lol time\n",
    "    lists.append(speed_list_elements)#lol speed\n",
    "    stop_element = sum(i < 5 for i in speed_list_elements)\n",
    "    stop.append(stop_element)\n",
    "    avg_speed.append(st.mean(speed_list_elements))\n",
    "    veh_t.append( time_list_elements[-1] - time_list_elements[0])\n",
    "\n",
    "\n",
    "time_max = max([listelement[-1] for listelement in listt])\n",
    "time_min = min([listelement[0] for listelement in listt])\n",
    "sim_time = time_max - time_min\n",
    "mean_veh_time = st.mean(veh_t)\n",
    "mean_stop_time = st.mean(stop)\n",
    "max_stop_time = max(stop)\n",
    "max_veh_time = max(veh_t)\n",
    "min_veh_time = min(veh_t)\n",
    "median_veh_time = st.median(veh_t)\n",
    "mean_veh_speed = st.mean(avg_speed)\n",
    "print(\"\\n\"\"Statistics for vehicles initialising on the left road\")\n",
    "print(\"Mean time is\",\"%.2f\" %mean_veh_time,\"\\n\",\n",
    "    #\"Median time is\",median_veh_time, \"\\n\",\n",
    "    #\"Min time is\",min_veh_time, \"\\n\",\n",
    "    \"Max time is\",max_veh_time,\"\\n\",\n",
    "    \"Mean stop time is\",mean_stop_time,\"\\n\",\n",
    "    \"Max stop time is\",max_stop_time,\"\\n\",\n",
    "    \"Mean speed is \"\"%.2f\" % mean_veh_speed,\"\\n\",\"\\n\")\n",
    "\n",
    "#try and get histogram working if possible\n",
    "\n",
    "#plt.style.use('fivethirtyeight')\n",
    "#plt.hist(veh_t, bins=9, edgecolor='black')\n",
    "#plt.xlabel('Time (s)')\n",
    "#plt.ylabel('Number of Vehicles')\n",
    "#plt.title(\"Time taken for vehicles to move through simulation\")\n",
    "\n",
    "#\n",
    "#\n",
    "#\n",
    "#\n",
    "#\n",
    "#\n",
    "#\n",
    "#\n",
    "#\n",
    "#\n",
    "\n",
    "\n",
    "\n",
    "listt2 = []\n",
    "lists2 = []\n",
    "veh_t2 = []\n",
    "stop2 = []\n",
    "avg_speed2 = []\n",
    "for i in range(len(df_bottom)):\n",
    "    time_list_elements2 = list(eval(df_bottom.iloc[i]['time']))#time stamps for each vehicle \n",
    "    speed_list_elements2 = list(eval(df_bottom.iloc[i]['value']))#speed stamps for each vehicle\n",
    "    listt2.append(time_list_elements2)#lol time\n",
    "    lists2.append(speed_list_elements2)#lol speed\n",
    "    stop_element2 = sum(i < 5 for i in speed_list_elements2)\n",
    "    stop2.append(stop_element2)\n",
    "    avg_speed2.append(st.mean(speed_list_elements2))\n",
    "    veh_t2.append( time_list_elements2[-1] - time_list_elements2[0])\n",
    "\n",
    "\n",
    "time_max2 = max([listelement2[-1] for listelement2 in listt2])\n",
    "time_min2 = min([listelement2[0] for listelement2 in listt2])\n",
    "sim_time2 = time_max2 - time_min2\n",
    "mean_veh_time2 = st.mean(veh_t2)\n",
    "mean_stop_time2 = st.mean(stop2)\n",
    "max_stop_time2 = max(stop2)\n",
    "max_veh_time2 = max(veh_t2)\n",
    "min_veh_time2 = min(veh_t2)\n",
    "median_veh_time2 = st.median(veh_t2)\n",
    "mean_veh_speed2 = st.mean(avg_speed2)\n",
    "print(\"Statistics for vehicles initialising on the bottom road\")\n",
    "#\" simulation time is\",sim_time2,\"\\n\",\n",
    "print(\"Mean time is\",\"%.2f\" %mean_veh_time2,\"\\n\",\n",
    "   # \"Median time is\",median_veh_time2, \"\\n\",\n",
    "   # \"Min time is\",min_veh_time2, \"\\n\",\n",
    "    \"Max time is\",max_veh_time2,\"\\n\",\n",
    "    \"Mean stop time is\",mean_stop_time2,\"\\n\",\n",
    "    \"Max stop time is\",max_stop_time2,\"\\n\",\n",
    "    \"Mean speed is \"\"%.2f\" % mean_veh_speed2,\"\\n\",\"\\n\")\n",
    "\n",
    "\n",
    "\n",
    "combined_list = [veh_t,veh_t2]\n",
    "#combined_list = [stop,stop2]\n",
    "labels = ['E-W','S-N']\n",
    "#try and get histogram working if possible\n",
    "\n",
    "plt.style.use('fivethirtyeight')\n",
    "plt.hist(combined_list, bins=10, histtype='bar',  stacked = True, edgecolor='black',label = labels)\n",
    "plt.legend()\n",
    "plt.xlabel('Time (s)', fontsize = 16)\n",
    "plt.ylabel('Number of Vehicles', fontsize = 16)\n",
    "plt.title('Time taken for vehicles to move through simulation', fontsize = 16)\n",
    "#handles = [Rectangle((0,0),1,1,color=c,ec=\"k\") for c in [low,medium]]\n",
    "#labels = [\"East-West\",\"South-North\"]\n",
    "#plt.legend(handles,labels)\n",
    "\n",
    "\n",
    "\n",
    "#note to self, next job is to add legend to histogram, \n",
    "\n",
    "\n",
    "\n"
   ]
  },
  {
   "cell_type": "code",
   "execution_count": null,
   "metadata": {},
   "outputs": [],
   "source": []
  },
  {
   "cell_type": "code",
   "execution_count": null,
   "metadata": {},
   "outputs": [],
   "source": []
  },
  {
   "cell_type": "code",
   "execution_count": null,
   "metadata": {},
   "outputs": [],
   "source": []
  },
  {
   "cell_type": "code",
   "execution_count": null,
   "metadata": {},
   "outputs": [],
   "source": []
  },
  {
   "cell_type": "code",
   "execution_count": null,
   "metadata": {},
   "outputs": [],
   "source": []
  },
  {
   "cell_type": "code",
   "execution_count": null,
   "metadata": {},
   "outputs": [],
   "source": []
  },
  {
   "cell_type": "code",
   "execution_count": null,
   "metadata": {},
   "outputs": [],
   "source": []
  }
 ],
 "metadata": {
  "kernelspec": {
   "display_name": "Python 3",
   "language": "python",
   "name": "python3"
  },
  "language_info": {
   "codemirror_mode": {
    "name": "ipython",
    "version": 3
   },
   "file_extension": ".py",
   "mimetype": "text/x-python",
   "name": "python",
   "nbconvert_exporter": "python",
   "pygments_lexer": "ipython3",
   "version": "3.8.5"
  }
 },
 "nbformat": 4,
 "nbformat_minor": 4
}
